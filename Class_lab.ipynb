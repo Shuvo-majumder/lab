{
  "nbformat": 4,
  "nbformat_minor": 0,
  "metadata": {
    "colab": {
      "name": "Class_lab.ipynb",
      "provenance": []
    },
    "kernelspec": {
      "name": "python3",
      "display_name": "Python 3"
    },
    "language_info": {
      "name": "python"
    }
  },
  "cells": [
    {
      "cell_type": "code",
      "execution_count": null,
      "metadata": {
        "id": "-aLH9RB49jH_"
      },
      "outputs": [],
      "source": [
        "import numpy as np\n",
        "import pandas as pd\n",
        "import matplotlib.pyplot as plt"
      ]
    },
    {
      "cell_type": "code",
      "source": [
        "df = pd.read_csv(\"FuelConsumption - FuelConsumption.csv\")"
      ],
      "metadata": {
        "id": "OskpLCstCPCF"
      },
      "execution_count": null,
      "outputs": []
    },
    {
      "cell_type": "code",
      "source": [
        "df"
      ],
      "metadata": {
        "colab": {
          "base_uri": "https://localhost:8080/",
          "height": 627
        },
        "id": "aJRlE5rzCaZe",
        "outputId": "ad2083df-c326-4492-eba6-92fdb10b57de"
      },
      "execution_count": null,
      "outputs": [
        {
          "output_type": "execute_result",
          "data": {
            "text/plain": [
              "      MODELYEAR   MAKE       MODEL    VEHICLECLASS  ENGINESIZE  CYLINDERS  \\\n",
              "0          2014  ACURA         ILX         COMPACT         2.0          4   \n",
              "1          2014  ACURA         ILX         COMPACT         2.4          4   \n",
              "2          2014  ACURA  ILX HYBRID         COMPACT         1.5          4   \n",
              "3          2014  ACURA     MDX 4WD     SUV - SMALL         3.5          6   \n",
              "4          2014  ACURA     RDX AWD     SUV - SMALL         3.5          6   \n",
              "...         ...    ...         ...             ...         ...        ...   \n",
              "1062       2014  VOLVO    XC60 AWD     SUV - SMALL         3.0          6   \n",
              "1063       2014  VOLVO    XC60 AWD     SUV - SMALL         3.2          6   \n",
              "1064       2014  VOLVO    XC70 AWD     SUV - SMALL         3.0          6   \n",
              "1065       2014  VOLVO    XC70 AWD     SUV - SMALL         3.2          6   \n",
              "1066       2014  VOLVO    XC90 AWD  SUV - STANDARD         3.2          6   \n",
              "\n",
              "     TRANSMISSION FUELTYPE  FUELCONSUMPTION_CITY  FUELCONSUMPTION_HWY  \\\n",
              "0             AS5        Z                   9.9                  6.7   \n",
              "1              M6        Z                  11.2                  7.7   \n",
              "2             AV7        Z                   6.0                  5.8   \n",
              "3             AS6        Z                  12.7                  9.1   \n",
              "4             AS6        Z                  12.1                  8.7   \n",
              "...           ...      ...                   ...                  ...   \n",
              "1062          AS6        X                  13.4                  9.8   \n",
              "1063          AS6        X                  13.2                  9.5   \n",
              "1064          AS6        X                  13.4                  9.8   \n",
              "1065          AS6        X                  12.9                  9.3   \n",
              "1066          AS6        X                  14.9                 10.2   \n",
              "\n",
              "      FUELCONSUMPTION_COMB  FUELCONSUMPTION_COMB_MPG  CO2EMISSIONS  \n",
              "0                      8.5                        33           196  \n",
              "1                      9.6                        29           221  \n",
              "2                      5.9                        48           136  \n",
              "3                     11.1                        25           255  \n",
              "4                     10.6                        27           244  \n",
              "...                    ...                       ...           ...  \n",
              "1062                  11.8                        24           271  \n",
              "1063                  11.5                        25           264  \n",
              "1064                  11.8                        24           271  \n",
              "1065                  11.3                        25           260  \n",
              "1066                  12.8                        22           294  \n",
              "\n",
              "[1067 rows x 13 columns]"
            ],
            "text/html": [
              "\n",
              "  <div id=\"df-412b9fa6-8e9a-4499-9886-3f288273fa16\">\n",
              "    <div class=\"colab-df-container\">\n",
              "      <div>\n",
              "<style scoped>\n",
              "    .dataframe tbody tr th:only-of-type {\n",
              "        vertical-align: middle;\n",
              "    }\n",
              "\n",
              "    .dataframe tbody tr th {\n",
              "        vertical-align: top;\n",
              "    }\n",
              "\n",
              "    .dataframe thead th {\n",
              "        text-align: right;\n",
              "    }\n",
              "</style>\n",
              "<table border=\"1\" class=\"dataframe\">\n",
              "  <thead>\n",
              "    <tr style=\"text-align: right;\">\n",
              "      <th></th>\n",
              "      <th>MODELYEAR</th>\n",
              "      <th>MAKE</th>\n",
              "      <th>MODEL</th>\n",
              "      <th>VEHICLECLASS</th>\n",
              "      <th>ENGINESIZE</th>\n",
              "      <th>CYLINDERS</th>\n",
              "      <th>TRANSMISSION</th>\n",
              "      <th>FUELTYPE</th>\n",
              "      <th>FUELCONSUMPTION_CITY</th>\n",
              "      <th>FUELCONSUMPTION_HWY</th>\n",
              "      <th>FUELCONSUMPTION_COMB</th>\n",
              "      <th>FUELCONSUMPTION_COMB_MPG</th>\n",
              "      <th>CO2EMISSIONS</th>\n",
              "    </tr>\n",
              "  </thead>\n",
              "  <tbody>\n",
              "    <tr>\n",
              "      <th>0</th>\n",
              "      <td>2014</td>\n",
              "      <td>ACURA</td>\n",
              "      <td>ILX</td>\n",
              "      <td>COMPACT</td>\n",
              "      <td>2.0</td>\n",
              "      <td>4</td>\n",
              "      <td>AS5</td>\n",
              "      <td>Z</td>\n",
              "      <td>9.9</td>\n",
              "      <td>6.7</td>\n",
              "      <td>8.5</td>\n",
              "      <td>33</td>\n",
              "      <td>196</td>\n",
              "    </tr>\n",
              "    <tr>\n",
              "      <th>1</th>\n",
              "      <td>2014</td>\n",
              "      <td>ACURA</td>\n",
              "      <td>ILX</td>\n",
              "      <td>COMPACT</td>\n",
              "      <td>2.4</td>\n",
              "      <td>4</td>\n",
              "      <td>M6</td>\n",
              "      <td>Z</td>\n",
              "      <td>11.2</td>\n",
              "      <td>7.7</td>\n",
              "      <td>9.6</td>\n",
              "      <td>29</td>\n",
              "      <td>221</td>\n",
              "    </tr>\n",
              "    <tr>\n",
              "      <th>2</th>\n",
              "      <td>2014</td>\n",
              "      <td>ACURA</td>\n",
              "      <td>ILX HYBRID</td>\n",
              "      <td>COMPACT</td>\n",
              "      <td>1.5</td>\n",
              "      <td>4</td>\n",
              "      <td>AV7</td>\n",
              "      <td>Z</td>\n",
              "      <td>6.0</td>\n",
              "      <td>5.8</td>\n",
              "      <td>5.9</td>\n",
              "      <td>48</td>\n",
              "      <td>136</td>\n",
              "    </tr>\n",
              "    <tr>\n",
              "      <th>3</th>\n",
              "      <td>2014</td>\n",
              "      <td>ACURA</td>\n",
              "      <td>MDX 4WD</td>\n",
              "      <td>SUV - SMALL</td>\n",
              "      <td>3.5</td>\n",
              "      <td>6</td>\n",
              "      <td>AS6</td>\n",
              "      <td>Z</td>\n",
              "      <td>12.7</td>\n",
              "      <td>9.1</td>\n",
              "      <td>11.1</td>\n",
              "      <td>25</td>\n",
              "      <td>255</td>\n",
              "    </tr>\n",
              "    <tr>\n",
              "      <th>4</th>\n",
              "      <td>2014</td>\n",
              "      <td>ACURA</td>\n",
              "      <td>RDX AWD</td>\n",
              "      <td>SUV - SMALL</td>\n",
              "      <td>3.5</td>\n",
              "      <td>6</td>\n",
              "      <td>AS6</td>\n",
              "      <td>Z</td>\n",
              "      <td>12.1</td>\n",
              "      <td>8.7</td>\n",
              "      <td>10.6</td>\n",
              "      <td>27</td>\n",
              "      <td>244</td>\n",
              "    </tr>\n",
              "    <tr>\n",
              "      <th>...</th>\n",
              "      <td>...</td>\n",
              "      <td>...</td>\n",
              "      <td>...</td>\n",
              "      <td>...</td>\n",
              "      <td>...</td>\n",
              "      <td>...</td>\n",
              "      <td>...</td>\n",
              "      <td>...</td>\n",
              "      <td>...</td>\n",
              "      <td>...</td>\n",
              "      <td>...</td>\n",
              "      <td>...</td>\n",
              "      <td>...</td>\n",
              "    </tr>\n",
              "    <tr>\n",
              "      <th>1062</th>\n",
              "      <td>2014</td>\n",
              "      <td>VOLVO</td>\n",
              "      <td>XC60 AWD</td>\n",
              "      <td>SUV - SMALL</td>\n",
              "      <td>3.0</td>\n",
              "      <td>6</td>\n",
              "      <td>AS6</td>\n",
              "      <td>X</td>\n",
              "      <td>13.4</td>\n",
              "      <td>9.8</td>\n",
              "      <td>11.8</td>\n",
              "      <td>24</td>\n",
              "      <td>271</td>\n",
              "    </tr>\n",
              "    <tr>\n",
              "      <th>1063</th>\n",
              "      <td>2014</td>\n",
              "      <td>VOLVO</td>\n",
              "      <td>XC60 AWD</td>\n",
              "      <td>SUV - SMALL</td>\n",
              "      <td>3.2</td>\n",
              "      <td>6</td>\n",
              "      <td>AS6</td>\n",
              "      <td>X</td>\n",
              "      <td>13.2</td>\n",
              "      <td>9.5</td>\n",
              "      <td>11.5</td>\n",
              "      <td>25</td>\n",
              "      <td>264</td>\n",
              "    </tr>\n",
              "    <tr>\n",
              "      <th>1064</th>\n",
              "      <td>2014</td>\n",
              "      <td>VOLVO</td>\n",
              "      <td>XC70 AWD</td>\n",
              "      <td>SUV - SMALL</td>\n",
              "      <td>3.0</td>\n",
              "      <td>6</td>\n",
              "      <td>AS6</td>\n",
              "      <td>X</td>\n",
              "      <td>13.4</td>\n",
              "      <td>9.8</td>\n",
              "      <td>11.8</td>\n",
              "      <td>24</td>\n",
              "      <td>271</td>\n",
              "    </tr>\n",
              "    <tr>\n",
              "      <th>1065</th>\n",
              "      <td>2014</td>\n",
              "      <td>VOLVO</td>\n",
              "      <td>XC70 AWD</td>\n",
              "      <td>SUV - SMALL</td>\n",
              "      <td>3.2</td>\n",
              "      <td>6</td>\n",
              "      <td>AS6</td>\n",
              "      <td>X</td>\n",
              "      <td>12.9</td>\n",
              "      <td>9.3</td>\n",
              "      <td>11.3</td>\n",
              "      <td>25</td>\n",
              "      <td>260</td>\n",
              "    </tr>\n",
              "    <tr>\n",
              "      <th>1066</th>\n",
              "      <td>2014</td>\n",
              "      <td>VOLVO</td>\n",
              "      <td>XC90 AWD</td>\n",
              "      <td>SUV - STANDARD</td>\n",
              "      <td>3.2</td>\n",
              "      <td>6</td>\n",
              "      <td>AS6</td>\n",
              "      <td>X</td>\n",
              "      <td>14.9</td>\n",
              "      <td>10.2</td>\n",
              "      <td>12.8</td>\n",
              "      <td>22</td>\n",
              "      <td>294</td>\n",
              "    </tr>\n",
              "  </tbody>\n",
              "</table>\n",
              "<p>1067 rows × 13 columns</p>\n",
              "</div>\n",
              "      <button class=\"colab-df-convert\" onclick=\"convertToInteractive('df-412b9fa6-8e9a-4499-9886-3f288273fa16')\"\n",
              "              title=\"Convert this dataframe to an interactive table.\"\n",
              "              style=\"display:none;\">\n",
              "        \n",
              "  <svg xmlns=\"http://www.w3.org/2000/svg\" height=\"24px\"viewBox=\"0 0 24 24\"\n",
              "       width=\"24px\">\n",
              "    <path d=\"M0 0h24v24H0V0z\" fill=\"none\"/>\n",
              "    <path d=\"M18.56 5.44l.94 2.06.94-2.06 2.06-.94-2.06-.94-.94-2.06-.94 2.06-2.06.94zm-11 1L8.5 8.5l.94-2.06 2.06-.94-2.06-.94L8.5 2.5l-.94 2.06-2.06.94zm10 10l.94 2.06.94-2.06 2.06-.94-2.06-.94-.94-2.06-.94 2.06-2.06.94z\"/><path d=\"M17.41 7.96l-1.37-1.37c-.4-.4-.92-.59-1.43-.59-.52 0-1.04.2-1.43.59L10.3 9.45l-7.72 7.72c-.78.78-.78 2.05 0 2.83L4 21.41c.39.39.9.59 1.41.59.51 0 1.02-.2 1.41-.59l7.78-7.78 2.81-2.81c.8-.78.8-2.07 0-2.86zM5.41 20L4 18.59l7.72-7.72 1.47 1.35L5.41 20z\"/>\n",
              "  </svg>\n",
              "      </button>\n",
              "      \n",
              "  <style>\n",
              "    .colab-df-container {\n",
              "      display:flex;\n",
              "      flex-wrap:wrap;\n",
              "      gap: 12px;\n",
              "    }\n",
              "\n",
              "    .colab-df-convert {\n",
              "      background-color: #E8F0FE;\n",
              "      border: none;\n",
              "      border-radius: 50%;\n",
              "      cursor: pointer;\n",
              "      display: none;\n",
              "      fill: #1967D2;\n",
              "      height: 32px;\n",
              "      padding: 0 0 0 0;\n",
              "      width: 32px;\n",
              "    }\n",
              "\n",
              "    .colab-df-convert:hover {\n",
              "      background-color: #E2EBFA;\n",
              "      box-shadow: 0px 1px 2px rgba(60, 64, 67, 0.3), 0px 1px 3px 1px rgba(60, 64, 67, 0.15);\n",
              "      fill: #174EA6;\n",
              "    }\n",
              "\n",
              "    [theme=dark] .colab-df-convert {\n",
              "      background-color: #3B4455;\n",
              "      fill: #D2E3FC;\n",
              "    }\n",
              "\n",
              "    [theme=dark] .colab-df-convert:hover {\n",
              "      background-color: #434B5C;\n",
              "      box-shadow: 0px 1px 3px 1px rgba(0, 0, 0, 0.15);\n",
              "      filter: drop-shadow(0px 1px 2px rgba(0, 0, 0, 0.3));\n",
              "      fill: #FFFFFF;\n",
              "    }\n",
              "  </style>\n",
              "\n",
              "      <script>\n",
              "        const buttonEl =\n",
              "          document.querySelector('#df-412b9fa6-8e9a-4499-9886-3f288273fa16 button.colab-df-convert');\n",
              "        buttonEl.style.display =\n",
              "          google.colab.kernel.accessAllowed ? 'block' : 'none';\n",
              "\n",
              "        async function convertToInteractive(key) {\n",
              "          const element = document.querySelector('#df-412b9fa6-8e9a-4499-9886-3f288273fa16');\n",
              "          const dataTable =\n",
              "            await google.colab.kernel.invokeFunction('convertToInteractive',\n",
              "                                                     [key], {});\n",
              "          if (!dataTable) return;\n",
              "\n",
              "          const docLinkHtml = 'Like what you see? Visit the ' +\n",
              "            '<a target=\"_blank\" href=https://colab.research.google.com/notebooks/data_table.ipynb>data table notebook</a>'\n",
              "            + ' to learn more about interactive tables.';\n",
              "          element.innerHTML = '';\n",
              "          dataTable['output_type'] = 'display_data';\n",
              "          await google.colab.output.renderOutput(dataTable, element);\n",
              "          const docLink = document.createElement('div');\n",
              "          docLink.innerHTML = docLinkHtml;\n",
              "          element.appendChild(docLink);\n",
              "        }\n",
              "      </script>\n",
              "    </div>\n",
              "  </div>\n",
              "  "
            ]
          },
          "metadata": {},
          "execution_count": 3
        }
      ]
    },
    {
      "cell_type": "code",
      "source": [
        "df.isnull().sum()"
      ],
      "metadata": {
        "colab": {
          "base_uri": "https://localhost:8080/"
        },
        "id": "OVhtphYGJbut",
        "outputId": "1dfd80ba-523a-4470-9d1f-6a0d7bb1ba9d"
      },
      "execution_count": null,
      "outputs": [
        {
          "output_type": "execute_result",
          "data": {
            "text/plain": [
              "MODELYEAR                   0\n",
              "MAKE                        0\n",
              "MODEL                       0\n",
              "VEHICLECLASS                0\n",
              "ENGINESIZE                  0\n",
              "CYLINDERS                   0\n",
              "TRANSMISSION                0\n",
              "FUELTYPE                    0\n",
              "FUELCONSUMPTION_CITY        0\n",
              "FUELCONSUMPTION_HWY         0\n",
              "FUELCONSUMPTION_COMB        0\n",
              "FUELCONSUMPTION_COMB_MPG    0\n",
              "CO2EMISSIONS                0\n",
              "dtype: int64"
            ]
          },
          "metadata": {},
          "execution_count": 31
        }
      ]
    },
    {
      "cell_type": "code",
      "source": [
        "\n",
        "X=df[['ENGINESIZE']].values\n",
        "y=df['CO2EMISSIONS']"
      ],
      "metadata": {
        "id": "5gOuAQOHCmkW"
      },
      "execution_count": null,
      "outputs": []
    },
    {
      "cell_type": "code",
      "source": [
        "plt.scatter(X,y, marker='+',color='black')\n",
        "plt.xlabel(\"ENGINESIZE\")\n",
        "plt.ylabel(\"CO2EMISSIONS\")\n",
        "plt.title(\"FuelConsumption prediction\")"
      ],
      "metadata": {
        "colab": {
          "base_uri": "https://localhost:8080/",
          "height": 312
        },
        "id": "VOihzLqtDQ51",
        "outputId": "d3a8aa7b-d50b-468d-c9d3-38d469d51316"
      },
      "execution_count": null,
      "outputs": [
        {
          "output_type": "execute_result",
          "data": {
            "text/plain": [
              "Text(0.5, 1.0, 'FuelConsumption prediction')"
            ]
          },
          "metadata": {},
          "execution_count": 32
        },
        {
          "output_type": "display_data",
          "data": {
            "text/plain": [
              "<Figure size 432x288 with 1 Axes>"
            ],
            "image/png": "[encoded data removed]"
          },
          "metadata": {
            "needs_background": "light"
          }
        }
      ]
    },
    {
      "cell_type": "code",
      "source": [
        "from sklearn.model_selection import train_test_split"
      ],
      "metadata": {
        "id": "c6QTZ3dkDrfe"
      },
      "execution_count": null,
      "outputs": []
    },
    {
      "cell_type": "code",
      "source": [
        "X_train,X_test,y_train,y_test=train_test_split(X,y,test_size=.30,random_state=1)"
      ],
      "metadata": {
        "id": "bx6SeWiPD0m_"
      },
      "execution_count": null,
      "outputs": []
    },
    {
      "cell_type": "code",
      "source": [
        "X_test"
      ],
      "metadata": {
        "colab": {
          "base_uri": "https://localhost:8080/"
        },
        "id": "eKebhUjfD7vW",
        "outputId": "800d2fdf-cc9c-495e-8260-82e1e0c85e69"
      },
      "execution_count": null,
      "outputs": [
        {
          "output_type": "execute_result",
          "data": {
            "text/plain": [
              "array([[3. ],\n",
              "       [1.4],\n",
              "       [2. ],\n",
              "       [2. ],\n",
              "       [4.6],\n",
              "       [3. ],\n",
              "       [2. ],\n",
              "       [1.8],\n",
              "       [3. ],\n",
              "       [2.4],\n",
              "       [2.4],\n",
              "       [3. ],\n",
              "       [2.4],\n",
              "       [5.2],\n",
              "       [2.5],\n",
              "       [2.5],\n",
              "       [1.6],\n",
              "       [4.4],\n",
              "       [3.5],\n",
              "       [2.4],\n",
              "       [6. ],\n",
              "       [2.5],\n",
              "       [3.7],\n",
              "       [3.5],\n",
              "       [3.7],\n",
              "       [3. ],\n",
              "       [1.2],\n",
              "       [5.5],\n",
              "       [1.6],\n",
              "       [2. ],\n",
              "       [3. ],\n",
              "       [5.2],\n",
              "       [3.5],\n",
              "       [5.3],\n",
              "       [4. ],\n",
              "       [5.3],\n",
              "       [6.2],\n",
              "       [1.5],\n",
              "       [4.2],\n",
              "       [3.3],\n",
              "       [3. ],\n",
              "       [6.3],\n",
              "       [2. ],\n",
              "       [3.6],\n",
              "       [3.7],\n",
              "       [2. ],\n",
              "       [1.4],\n",
              "       [1.4],\n",
              "       [2. ],\n",
              "       [3.4],\n",
              "       [1.6],\n",
              "       [5.7],\n",
              "       [4.3],\n",
              "       [6.2],\n",
              "       [2. ],\n",
              "       [3.7],\n",
              "       [2.5],\n",
              "       [5. ],\n",
              "       [3.7],\n",
              "       [1.6],\n",
              "       [2.4],\n",
              "       [2.7],\n",
              "       [2. ],\n",
              "       [2. ],\n",
              "       [2. ],\n",
              "       [1.8],\n",
              "       [3.7],\n",
              "       [3.6],\n",
              "       [2. ],\n",
              "       [1.6],\n",
              "       [2. ],\n",
              "       [2. ],\n",
              "       [3.6],\n",
              "       [3.5],\n",
              "       [5. ],\n",
              "       [6.2],\n",
              "       [2. ],\n",
              "       [6.2],\n",
              "       [2. ],\n",
              "       [3.7],\n",
              "       [6.2],\n",
              "       [1.4],\n",
              "       [5.7],\n",
              "       [5. ],\n",
              "       [2. ],\n",
              "       [6.2],\n",
              "       [3.8],\n",
              "       [3.5],\n",
              "       [2. ],\n",
              "       [3.6],\n",
              "       [5.3],\n",
              "       [4.4],\n",
              "       [2. ],\n",
              "       [3.5],\n",
              "       [2. ],\n",
              "       [2. ],\n",
              "       [5.3],\n",
              "       [6.7],\n",
              "       [2. ],\n",
              "       [4. ],\n",
              "       [2.4],\n",
              "       [6.2],\n",
              "       [2. ],\n",
              "       [3.5],\n",
              "       [1.6],\n",
              "       [4.4],\n",
              "       [1.8],\n",
              "       [5.3],\n",
              "       [1.8],\n",
              "       [2. ],\n",
              "       [2.4],\n",
              "       [6.2],\n",
              "       [5.5],\n",
              "       [4.4],\n",
              "       [5.3],\n",
              "       [3.5],\n",
              "       [2.5],\n",
              "       [2.5],\n",
              "       [5. ],\n",
              "       [2. ],\n",
              "       [3.8],\n",
              "       [4.3],\n",
              "       [2. ],\n",
              "       [3.7],\n",
              "       [2. ],\n",
              "       [2. ],\n",
              "       [5.7],\n",
              "       [5.7],\n",
              "       [4.7],\n",
              "       [2. ],\n",
              "       [2.4],\n",
              "       [1.6],\n",
              "       [3.6],\n",
              "       [3.6],\n",
              "       [5.3],\n",
              "       [4.7],\n",
              "       [5. ],\n",
              "       [1.6],\n",
              "       [5.3],\n",
              "       [2.4],\n",
              "       [1.4],\n",
              "       [2. ],\n",
              "       [2. ],\n",
              "       [1.2],\n",
              "       [4.7],\n",
              "       [2. ],\n",
              "       [5. ],\n",
              "       [5.4],\n",
              "       [5.3],\n",
              "       [3.6],\n",
              "       [2. ],\n",
              "       [3. ],\n",
              "       [5.9],\n",
              "       [5.6],\n",
              "       [3.5],\n",
              "       [2.5],\n",
              "       [3.5],\n",
              "       [6.2],\n",
              "       [1.8],\n",
              "       [2. ],\n",
              "       [1.6],\n",
              "       [3.6],\n",
              "       [4. ],\n",
              "       [1.4],\n",
              "       [3. ],\n",
              "       [5.7],\n",
              "       [2. ],\n",
              "       [3.5],\n",
              "       [5.7],\n",
              "       [3.5],\n",
              "       [3.7],\n",
              "       [4.7],\n",
              "       [4. ],\n",
              "       [1.6],\n",
              "       [5. ],\n",
              "       [3. ],\n",
              "       [6.2],\n",
              "       [3.4],\n",
              "       [1.5],\n",
              "       [6. ],\n",
              "       [4. ],\n",
              "       [5.3],\n",
              "       [3. ],\n",
              "       [1.4],\n",
              "       [3.5],\n",
              "       [3.5],\n",
              "       [2.4],\n",
              "       [3.5],\n",
              "       [3.5],\n",
              "       [1.4],\n",
              "       [2. ],\n",
              "       [1.6],\n",
              "       [2.4],\n",
              "       [6. ],\n",
              "       [4.4],\n",
              "       [3.6],\n",
              "       [3.5],\n",
              "       [3.4],\n",
              "       [5.7],\n",
              "       [4.4],\n",
              "       [3.5],\n",
              "       [3.8],\n",
              "       [3.5],\n",
              "       [3.6],\n",
              "       [3.6],\n",
              "       [2. ],\n",
              "       [1.6],\n",
              "       [3.8],\n",
              "       [2.4],\n",
              "       [3.6],\n",
              "       [1.6],\n",
              "       [3.8],\n",
              "       [3.7],\n",
              "       [2. ],\n",
              "       [3. ],\n",
              "       [6.4],\n",
              "       [2.5],\n",
              "       [4.8],\n",
              "       [4. ],\n",
              "       [1.5],\n",
              "       [1.6],\n",
              "       [2. ],\n",
              "       [3.2],\n",
              "       [3.6],\n",
              "       [6.2],\n",
              "       [3. ],\n",
              "       [4.4],\n",
              "       [2. ],\n",
              "       [3.5],\n",
              "       [3.5],\n",
              "       [3.5],\n",
              "       [1.6],\n",
              "       [1.4],\n",
              "       [5.7],\n",
              "       [5. ],\n",
              "       [2. ],\n",
              "       [1.4],\n",
              "       [3.6],\n",
              "       [5. ],\n",
              "       [5.6],\n",
              "       [4.8],\n",
              "       [2.5],\n",
              "       [2. ],\n",
              "       [6.2],\n",
              "       [5. ],\n",
              "       [3. ],\n",
              "       [1.6],\n",
              "       [3.4],\n",
              "       [2.4],\n",
              "       [3.7],\n",
              "       [5. ],\n",
              "       [3.7],\n",
              "       [3.5],\n",
              "       [5.7],\n",
              "       [1.6],\n",
              "       [3.2],\n",
              "       [5.2],\n",
              "       [4. ],\n",
              "       [5. ],\n",
              "       [3.6],\n",
              "       [3.5],\n",
              "       [3. ],\n",
              "       [4.3],\n",
              "       [5.6],\n",
              "       [1.8],\n",
              "       [3.5],\n",
              "       [2. ],\n",
              "       [5.5],\n",
              "       [4.6],\n",
              "       [2. ],\n",
              "       [2. ],\n",
              "       [3.2],\n",
              "       [1.5],\n",
              "       [1.6],\n",
              "       [3.5],\n",
              "       [4.6],\n",
              "       [1.8],\n",
              "       [5.3],\n",
              "       [2. ],\n",
              "       [2. ],\n",
              "       [2.5],\n",
              "       [5.5],\n",
              "       [1.5],\n",
              "       [4. ],\n",
              "       [4.4],\n",
              "       [3. ],\n",
              "       [2. ],\n",
              "       [3.6],\n",
              "       [2. ],\n",
              "       [5.9],\n",
              "       [1.8],\n",
              "       [2.5],\n",
              "       [5.3],\n",
              "       [3.5],\n",
              "       [6.8],\n",
              "       [5.5],\n",
              "       [2.7],\n",
              "       [2.5],\n",
              "       [2. ],\n",
              "       [3.5],\n",
              "       [2.4],\n",
              "       [2.7],\n",
              "       [5. ],\n",
              "       [5.7],\n",
              "       [3.6],\n",
              "       [4.4],\n",
              "       [1.6],\n",
              "       [3.6],\n",
              "       [2.5],\n",
              "       [4.7],\n",
              "       [6.7],\n",
              "       [3.7],\n",
              "       [3.5],\n",
              "       [3.6],\n",
              "       [2. ],\n",
              "       [2.7],\n",
              "       [5.6],\n",
              "       [4.4],\n",
              "       [6.6],\n",
              "       [2. ],\n",
              "       [3.6]])"
            ]
          },
          "metadata": {},
          "execution_count": 18
        }
      ]
    },
    {
      "cell_type": "code",
      "source": [
        "y_test"
      ],
      "metadata": {
        "colab": {
          "base_uri": "https://localhost:8080/"
        },
        "id": "IrsT8E1DD_st",
        "outputId": "4fc56a4c-f00c-4e28-8cd5-2e7a56c598da"
      },
      "execution_count": null,
      "outputs": [
        {
          "output_type": "execute_result",
          "data": {
            "text/plain": [
              "133    274\n",
              "340    200\n",
              "948    196\n",
              "704    161\n",
              "661    320\n",
              "      ... \n",
              "538    294\n",
              "106    292\n",
              "923    368\n",
              "23     230\n",
              "920    262\n",
              "Name: CO2EMISSIONS, Length: 321, dtype: int64"
            ]
          },
          "metadata": {},
          "execution_count": 19
        }
      ]
    },
    {
      "cell_type": "code",
      "source": [
        "from sklearn.linear_model import LinearRegression"
      ],
      "metadata": {
        "id": "DaKnmj1SEPEu"
      },
      "execution_count": null,
      "outputs": []
    },
    {
      "cell_type": "code",
      "source": [
        "reg=LinearRegression()"
      ],
      "metadata": {
        "id": "1THNps2ZEUzl"
      },
      "execution_count": null,
      "outputs": []
    },
    {
      "cell_type": "code",
      "source": [
        "reg.fit(X_train, y_train)"
      ],
      "metadata": {
        "colab": {
          "base_uri": "https://localhost:8080/"
        },
        "id": "rur0kzuEEZPF",
        "outputId": "b5725f78-5169-440f-97be-2770f5b92f55"
      },
      "execution_count": null,
      "outputs": [
        {
          "output_type": "execute_result",
          "data": {
            "text/plain": [
              "LinearRegression()"
            ]
          },
          "metadata": {},
          "execution_count": 22
        }
      ]
    },
    {
      "cell_type": "code",
      "source": [
        "reg.predict(X_test)"
      ],
      "metadata": {
        "colab": {
          "base_uri": "https://localhost:8080/"
        },
        "id": "t2iVBKkNEdwV",
        "outputId": "8cbf0b6a-0986-444f-9a4c-76425257c32c"
      },
      "execution_count": null,
      "outputs": [
        {
          "output_type": "execute_result",
          "data": {
            "text/plain": [
              "array([243.34753384, 180.59365156, 204.12635741, 204.12635741,\n",
              "       306.10141612, 243.34753384, 204.12635741, 196.28212213,\n",
              "       243.34753384, 219.81482799, 219.81482799, 243.34753384,\n",
              "       219.81482799, 329.63412198, 223.73694563, 223.73694563,\n",
              "       188.43788684, 298.25718084, 262.95812205, 219.81482799,\n",
              "       361.01106312, 223.73694563, 270.80235734, 262.95812205,\n",
              "       270.80235734, 243.34753384, 172.74941627, 341.40047491,\n",
              "       188.43788684, 204.12635741, 243.34753384, 329.63412198,\n",
              "       262.95812205, 333.55623962, 282.56871027, 333.55623962,\n",
              "       368.85529841, 184.5157692 , 290.41294555, 255.11388677,\n",
              "       243.34753384, 372.77741605, 204.12635741, 266.8802397 ,\n",
              "       270.80235734, 204.12635741, 180.59365156, 180.59365156,\n",
              "       204.12635741, 259.03600441, 188.43788684, 349.24471019,\n",
              "       294.3350632 , 368.85529841, 204.12635741, 270.80235734,\n",
              "       223.73694563, 321.78988669, 270.80235734, 188.43788684,\n",
              "       219.81482799, 231.58118091, 204.12635741, 204.12635741,\n",
              "       204.12635741, 196.28212213, 270.80235734, 266.8802397 ,\n",
              "       204.12635741, 188.43788684, 204.12635741, 204.12635741,\n",
              "       266.8802397 , 262.95812205, 321.78988669, 368.85529841,\n",
              "       204.12635741, 368.85529841, 204.12635741, 270.80235734,\n",
              "       368.85529841, 180.59365156, 349.24471019, 321.78988669,\n",
              "       204.12635741, 368.85529841, 274.72447498, 262.95812205,\n",
              "       204.12635741, 266.8802397 , 333.55623962, 298.25718084,\n",
              "       204.12635741, 262.95812205, 204.12635741, 204.12635741,\n",
              "       333.55623962, 388.46588662, 204.12635741, 282.56871027,\n",
              "       219.81482799, 368.85529841, 204.12635741, 262.95812205,\n",
              "       188.43788684, 298.25718084, 196.28212213, 333.55623962,\n",
              "       196.28212213, 204.12635741, 219.81482799, 368.85529841,\n",
              "       341.40047491, 298.25718084, 333.55623962, 262.95812205,\n",
              "       223.73694563, 223.73694563, 321.78988669, 204.12635741,\n",
              "       274.72447498, 294.3350632 , 204.12635741, 270.80235734,\n",
              "       204.12635741, 204.12635741, 349.24471019, 349.24471019,\n",
              "       310.02353377, 204.12635741, 219.81482799, 188.43788684,\n",
              "       266.8802397 , 266.8802397 , 333.55623962, 310.02353377,\n",
              "       321.78988669, 188.43788684, 333.55623962, 219.81482799,\n",
              "       180.59365156, 204.12635741, 204.12635741, 172.74941627,\n",
              "       310.02353377, 204.12635741, 321.78988669, 337.47835726,\n",
              "       333.55623962, 266.8802397 , 204.12635741, 243.34753384,\n",
              "       357.08894548, 345.32259255, 262.95812205, 223.73694563,\n",
              "       262.95812205, 368.85529841, 196.28212213, 204.12635741,\n",
              "       188.43788684, 266.8802397 , 282.56871027, 180.59365156,\n",
              "       243.34753384, 349.24471019, 204.12635741, 262.95812205,\n",
              "       349.24471019, 262.95812205, 270.80235734, 310.02353377,\n",
              "       282.56871027, 188.43788684, 321.78988669, 243.34753384,\n",
              "       368.85529841, 259.03600441, 184.5157692 , 361.01106312,\n",
              "       282.56871027, 333.55623962, 243.34753384, 180.59365156,\n",
              "       262.95812205, 262.95812205, 219.81482799, 262.95812205,\n",
              "       262.95812205, 180.59365156, 204.12635741, 188.43788684,\n",
              "       219.81482799, 361.01106312, 298.25718084, 266.8802397 ,\n",
              "       262.95812205, 259.03600441, 349.24471019, 298.25718084,\n",
              "       262.95812205, 274.72447498, 262.95812205, 266.8802397 ,\n",
              "       266.8802397 , 204.12635741, 188.43788684, 274.72447498,\n",
              "       219.81482799, 266.8802397 , 188.43788684, 274.72447498,\n",
              "       270.80235734, 204.12635741, 243.34753384, 376.69953369,\n",
              "       223.73694563, 313.94565141, 282.56871027, 184.5157692 ,\n",
              "       188.43788684, 204.12635741, 251.19176913, 266.8802397 ,\n",
              "       368.85529841, 243.34753384, 298.25718084, 204.12635741,\n",
              "       262.95812205, 262.95812205, 262.95812205, 188.43788684,\n",
              "       180.59365156, 349.24471019, 321.78988669, 204.12635741,\n",
              "       180.59365156, 266.8802397 , 321.78988669, 345.32259255,\n",
              "       313.94565141, 223.73694563, 204.12635741, 368.85529841,\n",
              "       321.78988669, 243.34753384, 188.43788684, 259.03600441,\n",
              "       219.81482799, 270.80235734, 321.78988669, 270.80235734,\n",
              "       262.95812205, 349.24471019, 188.43788684, 251.19176913,\n",
              "       329.63412198, 282.56871027, 321.78988669, 266.8802397 ,\n",
              "       262.95812205, 243.34753384, 294.3350632 , 345.32259255,\n",
              "       196.28212213, 262.95812205, 204.12635741, 341.40047491,\n",
              "       306.10141612, 204.12635741, 204.12635741, 251.19176913,\n",
              "       184.5157692 , 188.43788684, 262.95812205, 306.10141612,\n",
              "       196.28212213, 333.55623962, 204.12635741, 204.12635741,\n",
              "       223.73694563, 341.40047491, 184.5157692 , 282.56871027,\n",
              "       298.25718084, 243.34753384, 204.12635741, 266.8802397 ,\n",
              "       204.12635741, 357.08894548, 196.28212213, 223.73694563,\n",
              "       333.55623962, 262.95812205, 392.38800426, 341.40047491,\n",
              "       231.58118091, 223.73694563, 204.12635741, 262.95812205,\n",
              "       219.81482799, 231.58118091, 321.78988669, 349.24471019,\n",
              "       266.8802397 , 298.25718084, 188.43788684, 266.8802397 ,\n",
              "       223.73694563, 310.02353377, 388.46588662, 270.80235734,\n",
              "       262.95812205, 266.8802397 , 204.12635741, 231.58118091,\n",
              "       345.32259255, 298.25718084, 384.54376898, 204.12635741,\n",
              "       266.8802397 ])"
            ]
          },
          "metadata": {},
          "execution_count": 23
        }
      ]
    },
    {
      "cell_type": "code",
      "source": [
        "y_test"
      ],
      "metadata": {
        "colab": {
          "base_uri": "https://localhost:8080/"
        },
        "id": "GZtV9BfcEvce",
        "outputId": "11b86820-1e68-4634-8b71-134e77b9d4c7"
      },
      "execution_count": null,
      "outputs": [
        {
          "output_type": "execute_result",
          "data": {
            "text/plain": [
              "133    274\n",
              "340    200\n",
              "948    196\n",
              "704    161\n",
              "661    320\n",
              "      ... \n",
              "538    294\n",
              "106    292\n",
              "923    368\n",
              "23     230\n",
              "920    262\n",
              "Name: CO2EMISSIONS, Length: 321, dtype: int64"
            ]
          },
          "metadata": {},
          "execution_count": 24
        }
      ]
    },
    {
      "cell_type": "code",
      "source": [
        "plt.plot(df['ENGINESIZE'],reg.predict(df[['ENGINESIZE']]))"
      ],
      "metadata": {
        "colab": {
          "base_uri": "https://localhost:8080/",
          "height": 337
        },
        "id": "ptnUIFddFMR2",
        "outputId": "29bbc484-4755-43b0-d519-c54e633937a4"
      },
      "execution_count": null,
      "outputs": [
        {
          "output_type": "stream",
          "name": "stderr",
          "text": [
            "/usr/local/lib/python3.7/dist-packages/sklearn/base.py:444: UserWarning: X has feature names, but LinearRegression was fitted without feature names\n",
            "  f\"X has feature names, but {self.__class__.__name__} was fitted without\"\n"
          ]
        },
        {
          "output_type": "execute_result",
          "data": {
            "text/plain": [
              "[<matplotlib.lines.Line2D at 0x7fcb7eb204d0>]"
            ]
          },
          "metadata": {},
          "execution_count": 25
        },
        {
          "output_type": "display_data",
          "data": {
            "text/plain": [
              "<Figure size 432x288 with 1 Axes>"
            ],
            "image/png": "[encoded data removed]"
          },
          "metadata": {
            "needs_background": "light"
          }
        }
      ]
    },
    {
      "cell_type": "code",
      "source": [
        "reg.score(X_test,y_test)"
      ],
      "metadata": {
        "colab": {
          "base_uri": "https://localhost:8080/"
        },
        "id": "9N9Xbl8UHl42",
        "outputId": "a7291e3e-93aa-4c38-8c9d-591ca9626b7c"
      },
      "execution_count": null,
      "outputs": [
        {
          "output_type": "execute_result",
          "data": {
            "text/plain": [
              "0.7672977379444554"
            ]
          },
          "metadata": {},
          "execution_count": 26
        }
      ]
    },
    {
      "cell_type": "code",
      "source": [
        "reg.coef_"
      ],
      "metadata": {
        "colab": {
          "base_uri": "https://localhost:8080/"
        },
        "id": "f12DnntHIA6m",
        "outputId": "c0736879-9bf2-49ad-f114-adf14db48313"
      },
      "execution_count": null,
      "outputs": [
        {
          "output_type": "execute_result",
          "data": {
            "text/plain": [
              "array([39.22117643])"
            ]
          },
          "metadata": {},
          "execution_count": 27
        }
      ]
    },
    {
      "cell_type": "code",
      "source": [
        "reg.intercept_"
      ],
      "metadata": {
        "colab": {
          "base_uri": "https://localhost:8080/"
        },
        "id": "S-cnWTVIIDMl",
        "outputId": "16712a4b-a26e-428f-c4de-684b5c49eb97"
      },
      "execution_count": null,
      "outputs": [
        {
          "output_type": "execute_result",
          "data": {
            "text/plain": [
              "125.68400456178537"
            ]
          },
          "metadata": {},
          "execution_count": 28
        }
      ]
    }
  ]
}